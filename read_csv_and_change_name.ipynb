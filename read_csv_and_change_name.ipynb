{
 "cells": [
  {
   "cell_type": "code",
   "execution_count": 38,
   "metadata": {
    "collapsed": true,
    "ExecuteTime": {
     "end_time": "2023-07-12T03:07:37.203268Z",
     "start_time": "2023-07-12T03:07:37.191753200Z"
    }
   },
   "outputs": [],
   "source": [
    "import file_utils\n",
    "import os\n",
    "from dataclasses import dataclass"
   ]
  },
  {
   "cell_type": "code",
   "execution_count": 39,
   "outputs": [],
   "source": [
    "@dataclass\n",
    "class FileInfo:\n",
    "    full_path: str\n",
    "    filename: str\n",
    "    new_name: str\n",
    "    extension: str\n",
    "\n",
    "    @property\n",
    "    def full_new_name(self) -> str:\n",
    "        return f\"{os.path.join(os.path.dirname(self.full_path), self.new_name)}.{self.extension}\"\n"
   ],
   "metadata": {
    "collapsed": false,
    "ExecuteTime": {
     "end_time": "2023-07-12T03:07:37.681232400Z",
     "start_time": "2023-07-12T03:07:37.677198300Z"
    }
   }
  },
  {
   "cell_type": "code",
   "execution_count": 40,
   "outputs": [],
   "source": [
    "files_info = file_utils.load_csv(\"replace.csv\", FileInfo)"
   ],
   "metadata": {
    "collapsed": false,
    "ExecuteTime": {
     "end_time": "2023-07-12T03:07:38.485315800Z",
     "start_time": "2023-07-12T03:07:38.476268500Z"
    }
   }
  },
  {
   "cell_type": "code",
   "execution_count": 41,
   "outputs": [],
   "source": [
    "for file_info in files_info:\n",
    "    #os.rename(file_info.full_path, file_info.full_new_name)\n"
   ],
   "metadata": {
    "collapsed": false,
    "ExecuteTime": {
     "end_time": "2023-07-12T03:07:43.027143200Z",
     "start_time": "2023-07-12T03:07:39.239850400Z"
    }
   }
  },
  {
   "cell_type": "code",
   "execution_count": null,
   "outputs": [],
   "source": [],
   "metadata": {
    "collapsed": false
   }
  }
 ],
 "metadata": {
  "kernelspec": {
   "display_name": "Python 3",
   "language": "python",
   "name": "python3"
  },
  "language_info": {
   "codemirror_mode": {
    "name": "ipython",
    "version": 2
   },
   "file_extension": ".py",
   "mimetype": "text/x-python",
   "name": "python",
   "nbconvert_exporter": "python",
   "pygments_lexer": "ipython2",
   "version": "2.7.6"
  }
 },
 "nbformat": 4,
 "nbformat_minor": 0
}
