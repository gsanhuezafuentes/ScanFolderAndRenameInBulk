{
 "cells": [
  {
   "cell_type": "code",
   "execution_count": 31,
   "id": "e9a32c4b-08ca-4dd9-99f9-2889d77ea66e",
   "metadata": {
    "tags": []
   },
   "outputs": [],
   "source": [
    "import re\n",
    "import os\n",
    "import files_utils"
   ]
  },
  {
   "cell_type": "code",
   "execution_count": 11,
   "id": "78bb62fd-82ad-49a6-8666-da9be456389a",
   "metadata": {
    "tags": []
   },
   "outputs": [],
   "source": [
    "descargas = \"D:\\Mis Cosas\\Descargas\""
   ]
  },
  {
   "cell_type": "code",
   "execution_count": 18,
   "id": "ca5f9542-0f09-4e47-8ce2-a8a84ba93b22",
   "metadata": {
    "tags": []
   },
   "outputs": [
    {
     "name": "stdout",
     "output_type": "stream",
     "text": [
      "{'mp3', 'Mp4', 'otf', '010', 'srt', 'avi', 'mp4', 'z01', 'png', '7z', '003', '016', '005', '008', '013', 'sfv', '011', 'JPG', '006', '015', 'txt', '002', '007', 'zip', 'jdc', 'ttc', 'TTF', 'msi', 'mkv', 'db', 'dat', '012', 'ttf', 'jpg', '009', 'OTF', 'torrent', 'url', '014', '001', 'z02', 'DS_Store', '004', 'exe', 'z03', 'z04', 'MP4', 'ass', 'rar', 'iso', 'PNG', 'pdf'}\n"
     ]
    }
   ],
   "source": [
    "file_extensions = set()\n",
    "for root, dirs, files in os.walk(descargas):\n",
    "    for file in files:\n",
    "        file_extensions.add(file.split(\".\")[-1])\n",
    "print(file_extensions)"
   ]
  },
  {
   "cell_type": "code",
   "execution_count": 35,
   "id": "4b8ebc95-f470-4746-8562-96f6d48010b7",
   "metadata": {
    "tags": []
   },
   "outputs": [
    {
     "name": "stdout",
     "output_type": "stream",
     "text": [
      "{'mp3', 'Mp4', 'otf', '010', 'srt', 'avi', 'mp4', 'z01', 'png', '7z', '003', '016', '005', '008', '013', 'sfv', '011', 'DTS', 'JPG', '006', '015', 'txt', '002', '007', 'AC3', 'zip', 'jdc', 'ttc', 'TTF', 'msi', 'mkv', 'db', 'dat', '012', 'ttf', 'jpg', '009', 'OTF', 'torrent', 'url', '014', '001', 'z02', '004', 'exe', 'z03', 'z04', 'MP4', 'ass', 'rar', 'iso', 'PNG', 'pdf'}\n"
     ]
    }
   ],
   "source": [
    "files = glob.glob(descargas+\"/**/*.*\", recursive=True)\n",
    "file_extensions = {file.split(\".\")[-1] for file in files}\n",
    "print(file_extensions)"
   ]
  },
  {
   "cell_type": "code",
   "execution_count": 39,
   "id": "1a63b922-a5b4-4a07-83bc-bc9441885907",
   "metadata": {
    "tags": []
   },
   "outputs": [
    {
     "name": "stdout",
     "output_type": "stream",
     "text": [
      "D:\\Mis Cosas\\Descargas\\D-Frag\\OST-RDFR\\D-Frag ED [Single]\\01. ミンナノナマエヲイレテクダサイ.mp3\n",
      "D:\\Mis Cosas\\Descargas\\Ore no Kanojo to Osananajimi ga Shuraba Sugiru\\[Mezurashi Anime] OreShura - 06 [MP4 HD V2].Mp4\n",
      "D:\\Mis Cosas\\Descargas\\Yofukashi no Uta\\Fonts\\Baqa.otf\n",
      "D:\\Mis Cosas\\Descargas\\Hayate no Gotoku\\[Realidad] Hayate no Gotoku! Heaven is a Place on Earth (1280x720 x264 AAC).7z.010\n",
      "D:\\Mis Cosas\\Descargas\\Final Fantasy XV\\Kingsglaive.Final.Fantasy.XV.2016.1080p.BDRip.LATiNO.SPA.ENG.JAP.x264.AC3.DTS\\Kingsglaive.Final.Fantasy.XV.2016.1080p.BDRip.LATiNO.SPA.ENG.JAP.x264.AC3.DTS.English.SDH.srt\n",
      "D:\\Mis Cosas\\Descargas\\Girls Bravo\\GiBr HD AnimeMF net\\[AU]GiBr_HD_001[AnimeMF.net]-angelord.avi\n",
      "D:\\Mis Cosas\\Descargas\\01 Tales of Symphonia The Animation Saga de Sylvarant.mp4\n",
      "D:\\Mis Cosas\\Descargas\\Sacred Seven\\BlackEnTricicloSinAsiento-HD.z01\n",
      "D:\\Mis Cosas\\Descargas\\ReLife\\Relife\\ReLIFE [01-10]\\ReLIFE - Capitulo 001\\000.png\n",
      "D:\\Mis Cosas\\Descargas\\Hayate no Gotoku\\HNGOVA.7z\n",
      "D:\\Mis Cosas\\Descargas\\Hayate no Gotoku\\[Realidad] Hayate no Gotoku! Heaven is a Place on Earth (1280x720 x264 AAC).7z.003\n",
      "D:\\Mis Cosas\\Descargas\\Hayate no Gotoku\\[Realidad] Hayate no Gotoku! Heaven is a Place on Earth (1280x720 x264 AAC).7z.016\n",
      "D:\\Mis Cosas\\Descargas\\Hayate no Gotoku\\[Realidad] Hayate no Gotoku! Heaven is a Place on Earth (1280x720 x264 AAC).7z.005\n",
      "D:\\Mis Cosas\\Descargas\\Hayate no Gotoku\\[Realidad] Hayate no Gotoku! Heaven is a Place on Earth (1280x720 x264 AAC).7z.008\n",
      "D:\\Mis Cosas\\Descargas\\Hayate no Gotoku\\[Realidad] Hayate no Gotoku! Heaven is a Place on Earth (1280x720 x264 AAC).7z.013\n",
      "D:\\Mis Cosas\\Descargas\\Sidonia no kishi\\XE7Z2A53H1.sfv\n",
      "D:\\Mis Cosas\\Descargas\\Hayate no Gotoku\\[Realidad] Hayate no Gotoku! Heaven is a Place on Earth (1280x720 x264 AAC).7z.011\n",
      "D:\\Mis Cosas\\Descargas\\Final Fantasy XV\\Kingsglaive.Final.Fantasy.XV.2016.1080p.BDRip.LATiNO.SPA.ENG.JAP.x264.AC3.DTS\n",
      "D:\\Mis Cosas\\Descargas\\ReLife\\Relife\\ReLIFE [141-150]\\147\\IMG_9920.JPG\n",
      "D:\\Mis Cosas\\Descargas\\Hayate no Gotoku\\[Realidad] Hayate no Gotoku! Heaven is a Place on Earth (1280x720 x264 AAC).7z.006\n",
      "D:\\Mis Cosas\\Descargas\\Hayate no Gotoku\\[Realidad] Hayate no Gotoku! Heaven is a Place on Earth (1280x720 x264 AAC).7z.015\n",
      "D:\\Mis Cosas\\Descargas\\Ao Haru Ride\\Importante.txt\n",
      "D:\\Mis Cosas\\Descargas\\Hayate no Gotoku\\[Realidad] Hayate no Gotoku! Heaven is a Place on Earth (1280x720 x264 AAC).7z.002\n",
      "D:\\Mis Cosas\\Descargas\\Hayate no Gotoku\\[Realidad] Hayate no Gotoku! Heaven is a Place on Earth (1280x720 x264 AAC).7z.007\n",
      "D:\\Mis Cosas\\Descargas\\Sidonia no kishi\\Sidonia.no.Kishi.2014.S01.COMPLETE.720p.BDRip.LATiNO.JAP.ENG.XviD.AC3\n",
      "D:\\Mis Cosas\\Descargas\\Tonari no Kaibutsukun Soundtrack CD [320k].zip\n",
      "D:\\Mis Cosas\\Descargas\\Nueva Carpeta\\12.jdc\n",
      "D:\\Mis Cosas\\Descargas\\Yofukashi no Uta\\Fonts\\YuGothB.ttc\n",
      "D:\\Mis Cosas\\Descargas\\Yofukashi no Uta\\Fonts\\ABAEXBC.TTF\n",
      "D:\\Mis Cosas\\Descargas\\Torrent\\hamachi (1).msi\n",
      "D:\\Mis Cosas\\Descargas\\86 Eighty Six\\[PuyaSubs!] 86 - Eighty Six - 01[ESP-ENG][720p][199CBD93].mkv\n",
      "D:\\Mis Cosas\\Descargas\\ReLife\\Relife\\ReLIFE [01-10]\\ReLIFE - Capitulo 001\\Thumbs.db\n",
      "D:\\Mis Cosas\\Descargas\\Chuunibyou Demo Koi ga Shitai\\Chuunibyou Demo Koi ga Shitai! - Depth of Field ~ Ai to Nikushimi Gekijou v2\\~uTorrentPartFile_1DF0897C.dat\n",
      "D:\\Mis Cosas\\Descargas\\Hayate no Gotoku\\[Realidad] Hayate no Gotoku! Heaven is a Place on Earth (1280x720 x264 AAC).7z.012\n",
      "D:\\Mis Cosas\\Descargas\\Yofukashi no Uta\\Fonts\\Althea-Regular.ttf\n",
      "D:\\Mis Cosas\\Descargas\\D-Frag\\OST-RDFR\\D-Frag ED [Single]\\Cover.jpg\n",
      "D:\\Mis Cosas\\Descargas\\Hayate no Gotoku\\[Realidad] Hayate no Gotoku! Heaven is a Place on Earth (1280x720 x264 AAC).7z.009\n",
      "D:\\Mis Cosas\\Descargas\\Yofukashi no Uta\\Fonts\\AVENIRNEXTROUNDEDPRO-DEMI.OTF\n",
      "D:\\Mis Cosas\\Descargas\\Suisei no Gargantia\\[EvermorE]_Suisei_no_Gargantia_-_03_[1280x720p H.264+AAC].mp4.torrent\n",
      "D:\\Mis Cosas\\Descargas\\Mahouka Koukou no Rettousei - Raihousha-hen\\Mahouka Koukou no Yuutousei - 01\\Visita Younime.net.url\n",
      "D:\\Mis Cosas\\Descargas\\Hayate no Gotoku\\[Realidad] Hayate no Gotoku! Heaven is a Place on Earth (1280x720 x264 AAC).7z.014\n",
      "D:\\Mis Cosas\\Descargas\\Hayate no Gotoku\\[Realidad] Hayate no Gotoku! Heaven is a Place on Earth (1280x720 x264 AAC).7z.001\n",
      "D:\\Mis Cosas\\Descargas\\Sacred Seven\\BlackEnTricicloSinAsiento-HD.z02\n",
      "D:\\Mis Cosas\\Descargas\\Hayate no Gotoku\\[Realidad] Hayate no Gotoku! Heaven is a Place on Earth (1280x720 x264 AAC).7z.004\n",
      "D:\\Mis Cosas\\Descargas\\Nueva Carpeta\\Armax\\Aiorus23-ARMAX-EVO-NTSC.exe\n",
      "D:\\Mis Cosas\\Descargas\\Seishun Buta Yarou wa Bunny Girl Senpai no Yume wo Minai\\[RZS]SBYYSYM720.z03\n",
      "D:\\Mis Cosas\\Descargas\\Seishun Buta Yarou wa Bunny Girl Senpai no Yume wo Minai\\[RZS]SBYYSYM720.z04\n",
      "D:\\Mis Cosas\\Descargas\\Enmusubi no Youko\\[animesldom]Enmusubi-no-Y-C_01.MP4\n",
      "D:\\Mis Cosas\\Descargas\\sword-art-online-extra-edition-movie-648529.español-español.ass\n",
      "D:\\Mis Cosas\\Descargas\\0121 BYAjikan91- S-H [TYPE A].rar\n",
      "D:\\Mis Cosas\\Descargas\\Nueva Carpeta\\Armax\\Aiorus23-ARMAX-EVO-NTSC.iso\n",
      "D:\\Mis Cosas\\Descargas\\ReLife\\Relife\\ReLIFE [181-190]\\186\\20.PNG\n",
      "D:\\Mis Cosas\\Descargas\\ReLife\\Relife\\[Mechi-kun] ReLIFE-PDF\\[Mechi-kun] ReLIFE Cap 001-020.pdf\n"
     ]
    }
   ],
   "source": [
    "for file_extension in file_extensions:\n",
    "    print(files_utils.filter_file_with_regex(f\".{file_extension}$\", files)[0])"
   ]
  },
  {
   "cell_type": "code",
   "execution_count": 36,
   "id": "0ff9d68d-3673-42c1-b68b-a1718b6fab3c",
   "metadata": {
    "tags": []
   },
   "outputs": [],
   "source": [
    "files_utils.open_path(\"D:\\\\Mis Cosas\\\\Descargas\\\\Hayate no Gotoku\\\\\")"
   ]
  },
  {
   "cell_type": "code",
   "execution_count": null,
   "id": "86a62e36-3f13-41c1-9b28-4c7e4e5f3fc8",
   "metadata": {},
   "outputs": [],
   "source": []
  }
 ],
 "metadata": {
  "kernelspec": {
   "display_name": "With Libs",
   "language": "python",
   "name": "with_libs"
  },
  "language_info": {
   "codemirror_mode": {
    "name": "ipython",
    "version": 3
   },
   "file_extension": ".py",
   "mimetype": "text/x-python",
   "name": "python",
   "nbconvert_exporter": "python",
   "pygments_lexer": "ipython3",
   "version": "3.11.0"
  }
 },
 "nbformat": 4,
 "nbformat_minor": 5
}
