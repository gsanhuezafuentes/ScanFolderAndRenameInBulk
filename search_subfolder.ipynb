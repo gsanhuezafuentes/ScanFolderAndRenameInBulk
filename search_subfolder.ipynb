{
 "cells": [
  {
   "cell_type": "code",
   "execution_count": 12,
   "metadata": {
    "collapsed": true,
    "ExecuteTime": {
     "end_time": "2023-07-12T03:36:03.289558300Z",
     "start_time": "2023-07-12T03:36:03.285549700Z"
    }
   },
   "outputs": [],
   "source": [
    "import os"
   ]
  },
  {
   "cell_type": "code",
   "execution_count": 13,
   "outputs": [],
   "source": [
    "descargas = \"D:\\Mis Cosas\\Descargas\""
   ],
   "metadata": {
    "collapsed": false,
    "ExecuteTime": {
     "end_time": "2023-07-12T03:36:03.681605700Z",
     "start_time": "2023-07-12T03:36:03.677597200Z"
    }
   }
  },
  {
   "cell_type": "code",
   "execution_count": 15,
   "outputs": [
    {
     "name": "stdout",
     "output_type": "stream",
     "text": [
      "D:\\Mis Cosas\\Descargas\n",
      "D:\\Mis Cosas\\Descargas\\Nueva Carpeta\n",
      "D:\\Mis Cosas\\Descargas\\Peliculas\n",
      "D:\\Mis Cosas\\Descargas\\Peliculas\\FP68PF\n",
      "D:\\Mis Cosas\\Descargas\\Peliculas\\Josee\n",
      "D:\\Mis Cosas\\Descargas\\Peliculas\\[FS] Hyakka Ryouran Samurai After (BD 1280x720 x264 AAC)\n"
     ]
    }
   ],
   "source": [
    "def imprimir_carpetas_con_subcarpetas(ruta):\n",
    "    for dirpath, dirnames, filenames in os.walk(ruta):\n",
    "        if len(dirnames) > 0:\n",
    "            print(dirpath)\n",
    "\n",
    "imprimir_carpetas_con_subcarpetas(descargas)"
   ],
   "metadata": {
    "collapsed": false,
    "ExecuteTime": {
     "end_time": "2023-07-12T03:39:19.190397800Z",
     "start_time": "2023-07-12T03:39:19.168961300Z"
    }
   }
  },
  {
   "cell_type": "code",
   "execution_count": null,
   "outputs": [],
   "source": [],
   "metadata": {
    "collapsed": false
   }
  }
 ],
 "metadata": {
  "kernelspec": {
   "display_name": "Python 3",
   "language": "python",
   "name": "python3"
  },
  "language_info": {
   "codemirror_mode": {
    "name": "ipython",
    "version": 2
   },
   "file_extension": ".py",
   "mimetype": "text/x-python",
   "name": "python",
   "nbconvert_exporter": "python",
   "pygments_lexer": "ipython2",
   "version": "2.7.6"
  }
 },
 "nbformat": 4,
 "nbformat_minor": 0
}
